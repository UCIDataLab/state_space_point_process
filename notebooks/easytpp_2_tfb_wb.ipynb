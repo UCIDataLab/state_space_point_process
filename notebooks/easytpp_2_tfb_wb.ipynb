{
 "cells": [
  {
   "cell_type": "markdown",
   "metadata": {},
   "source": [
    "[![Open in Colab](https://colab.research.google.com/assets/colab-badge.svg)](https://colab.research.google.com/github/ant-research/EasyTemporalPointProcess/blob/main/notebooks/easytpp_2_tfb_wb.ipynb)\n",
    "\n",
    "\n",
    "# Tutorial 2: Tensorboard and Weights & Biases in EasyTPP\n",
    "\n",
    "EasyTPP provides built-in support for both Tensorboard and Weights & Biases (W&B) to help you track and visualize your model training. These tools allow you to monitor metrics, compare experiments, and debug your models effectively.\n",
    "\n",
    "\n",
    "## Example of using Tensorboard"
   ]
  },
  {
   "cell_type": "code",
   "execution_count": 4,
   "metadata": {
    "ExecuteTime": {
     "end_time": "2025-02-03T02:24:56.584850Z",
     "start_time": "2025-02-03T02:24:56.580600Z"
    }
   },
   "outputs": [],
   "source": [
    "# As an illustrative example, we write the YAML content to a file\n",
    "yaml_content = \"\"\"\n",
    "pipeline_config_id: runner_config\n",
    "\n",
    "data:\n",
    "    taxi:\n",
    "        data_format: json\n",
    "        train_dir: easytpp/taxi  # ./data/taxi/train.json\n",
    "        valid_dir: easytpp/taxi  # ./data/taxi/dev.json\n",
    "        test_dir: easytpp/taxi   # ./data/taxi/test.json\n",
    "        data_specs:\n",
    "          num_event_types: 10\n",
    "          pad_token_id: 10\n",
    "          padding_side: right\n",
    "\n",
    "\n",
    "NHP_train:\n",
    "  base_config:\n",
    "    stage: train\n",
    "    backend: torch\n",
    "    dataset_id: taxi\n",
    "    runner_id: std_tpp\n",
    "    model_id: NHP # model name\n",
    "    base_dir: './checkpoints/'\n",
    "  trainer_config:\n",
    "    batch_size: 256\n",
    "    max_epoch: 2\n",
    "    shuffle: False\n",
    "    optimizer: adam\n",
    "    learning_rate: 1.e-3\n",
    "    valid_freq: 1\n",
    "    use_tfb: True\n",
    "    metrics: [ 'acc', 'rmse' ]\n",
    "    seed: 2019\n",
    "    gpu: -1\n",
    "  model_config:\n",
    "    hidden_size: 32\n",
    "    loss_integral_num_sample_per_step: 20\n",
    "    thinning:\n",
    "      num_seq: 10\n",
    "      num_sample: 1\n",
    "      num_exp: 500 # number of i.i.d. Exp(intensity_bound) draws at one time in thinning algorithm\n",
    "      look_ahead_time: 10\n",
    "      patience_counter: 5 # the maximum iteration used in adaptive thinning\n",
    "      over_sample_rate: 5\n",
    "      num_samples_boundary: 5\n",
    "      dtime_max: 5\n",
    "      num_step_gen: 1\n",
    "\"\"\"\n",
    "\n",
    "# Save the content to a file named config.yaml\n",
    "with open(\"config.yaml\", \"w\") as file:\n",
    "    file.write(yaml_content)"
   ]
  },
  {
   "cell_type": "markdown",
   "metadata": {},
   "source": [
    "Then we run the following command to train the model:"
   ]
  },
  {
   "cell_type": "code",
   "execution_count": 5,
   "metadata": {},
   "outputs": [
    {
     "name": "stdout",
     "output_type": "stream",
     "text": [
      "\u001b[31;1m2025-02-03 10:32:32,085 - config.py[pid:91053;line:34:build_from_yaml_file] - CRITICAL: Load pipeline config class RunnerConfig\u001b[0m\n",
      "\u001b[31;1m2025-02-03 10:32:32,089 - runner_config.py[pid:91053;line:161:update_config] - CRITICAL: train model NHP using CPU with torch backend\u001b[0m\n",
      "\u001b[38;20m2025-02-03 10:32:32,098 - runner_config.py[pid:91053;line:36:__init__] - INFO: Save the config to ./checkpoints/91053_8345177088_250203-103232/NHP_train_output.yaml\u001b[0m\n",
      "\u001b[38;20m2025-02-03 10:32:32,099 - base_runner.py[pid:91053;line:176:save_log] - INFO: Save the log to ./checkpoints/91053_8345177088_250203-103232/log\u001b[0m\n"
     ]
    },
    {
     "name": "stderr",
     "output_type": "stream",
     "text": [
      "/opt/miniconda3/envs/llm/lib/python3.10/site-packages/tqdm/auto.py:21: TqdmWarning: IProgress not found. Please update jupyter and ipywidgets. See https://ipywidgets.readthedocs.io/en/stable/user_install.html\n",
      "  from .autonotebook import tqdm as notebook_tqdm\n",
      "Downloading readme: 100%|██████████| 28.0/28.0 [00:00<00:00, 119B/s]\n"
     ]
    },
    {
     "name": "stdout",
     "output_type": "stream",
     "text": [
      "0.2244252199397379 0.29228809611195583\n",
      "min_dt: 0.000277777777777\n",
      "max_dt: 5.721388888888889\n",
      "\u001b[38;20m2025-02-03 10:32:38,267 - tpp_runner.py[pid:91053;line:60:_init_model] - INFO: Num of model parameters 15252\u001b[0m\n",
      "\u001b[38;20m2025-02-03 10:32:45,909 - base_runner.py[pid:91053;line:98:train] - INFO: Data 'taxi' loaded...\u001b[0m\n",
      "\u001b[38;20m2025-02-03 10:32:45,910 - base_runner.py[pid:91053;line:103:train] - INFO: Start NHP training...\u001b[0m\n",
      "\u001b[38;20m2025-02-03 10:32:46,425 - tpp_runner.py[pid:91053;line:96:_train_model] - INFO: [ Epoch 0 (train) ]: train loglike is -1.7553733776992408, num_events is 50454\u001b[0m\n",
      "\u001b[38;20m2025-02-03 10:32:47,128 - tpp_runner.py[pid:91053;line:107:_train_model] - INFO: [ Epoch 0 (valid) ]:  valid loglike is -1.6691416010202664, num_events is 7204, acc is 0.4414214325374792, rmse is 0.3327808472052436\u001b[0m\n",
      "\u001b[38;20m2025-02-03 10:32:48,150 - tpp_runner.py[pid:91053;line:122:_train_model] - INFO: [ Epoch 0 (test) ]: test loglike is -1.6577474861303745, num_events is 14420, acc is 0.44667128987517335, rmse is 0.3408341129976238\u001b[0m\n",
      "\u001b[31;1m2025-02-03 10:32:48,150 - tpp_runner.py[pid:91053;line:124:_train_model] - CRITICAL: current best loglike on valid set is -1.6691 (updated at epoch-0), best updated at this epoch\u001b[0m\n",
      "\u001b[38;20m2025-02-03 10:32:48,487 - tpp_runner.py[pid:91053;line:96:_train_model] - INFO: [ Epoch 1 (train) ]: train loglike is -1.6284447180538213, num_events is 50454\u001b[0m\n",
      "\u001b[38;20m2025-02-03 10:32:48,995 - tpp_runner.py[pid:91053;line:107:_train_model] - INFO: [ Epoch 1 (valid) ]:  valid loglike is -1.5259201159945863, num_events is 7204, acc is 0.4582176568573015, rmse is 0.33537458414488913\u001b[0m\n",
      "\u001b[38;20m2025-02-03 10:32:49,999 - tpp_runner.py[pid:91053;line:122:_train_model] - INFO: [ Epoch 1 (test) ]: test loglike is -1.5121817706527392, num_events is 14420, acc is 0.45977808599167824, rmse is 0.34166548827945314\u001b[0m\n",
      "\u001b[31;1m2025-02-03 10:32:50,000 - tpp_runner.py[pid:91053;line:124:_train_model] - CRITICAL: current best loglike on valid set is -1.5259 (updated at epoch-1), best updated at this epoch\u001b[0m\n",
      "\u001b[38;20m2025-02-03 10:32:50,000 - base_runner.py[pid:91053;line:110:train] - INFO: End NHP train! Cost time: 0.068m\u001b[0m\n"
     ]
    }
   ],
   "source": [
    "from easy_tpp.config_factory import Config\n",
    "from easy_tpp.runner import Runner\n",
    "\n",
    "config = Config.build_from_yaml_file('./config.yaml', experiment_id='NHP_train')\n",
    "\n",
    "model_runner = Runner.build_from_config(config)\n",
    "\n",
    "model_runner.run()"
   ]
  },
  {
   "cell_type": "markdown",
   "metadata": {
    "vscode": {
     "languageId": "plaintext"
    }
   },
   "source": [
    "After the training is done, we can see the tensorboard files in the `./checkpoints/` directory. "
   ]
  },
  {
   "cell_type": "code",
   "execution_count": 9,
   "metadata": {},
   "outputs": [
    {
     "name": "stdout",
     "output_type": "stream",
     "text": [
      "\u001b[34mcheckpoints\u001b[m\u001b[m             easytpp_1_dataset.ipynb\n",
      "config.yaml             easytpp_2_tfb_wb.ipynb\n",
      "\n",
      "./checkpoints:\n",
      "\u001b[34m91053_8345177088_250203-103232\u001b[m\u001b[m\n",
      "\n",
      "./checkpoints/91053_8345177088_250203-103232:\n",
      "NHP_train_output.yaml \u001b[34mmodels\u001b[m\u001b[m                \u001b[34mtfb_valid\u001b[m\u001b[m\n",
      "log                   \u001b[34mtfb_train\u001b[m\u001b[m\n",
      "\n",
      "./checkpoints/91053_8345177088_250203-103232/models:\n",
      "saved_model\n",
      "\n",
      "./checkpoints/91053_8345177088_250203-103232/tfb_train:\n",
      "events.out.tfevents.1738549958.siqiaodeMacBook-Pro.local.91053.0\n",
      "\n",
      "./checkpoints/91053_8345177088_250203-103232/tfb_valid:\n",
      "events.out.tfevents.1738549958.siqiaodeMacBook-Pro.local.91053.1\n"
     ]
    }
   ],
   "source": [
    "!ls -R"
   ]
  },
  {
   "cell_type": "markdown",
   "metadata": {},
   "source": [
    "Then we can use the following script to visualize the training process:"
   ]
  },
  {
   "cell_type": "code",
   "execution_count": null,
   "metadata": {},
   "outputs": [
    {
     "name": "stdout",
     "output_type": "stream",
     "text": [
      "TensorFlow installation not found - running with reduced feature set.\n",
      "Serving TensorBoard on localhost; to expose to the network, use a proxy or pass --bind_all\n",
      "TensorBoard 2.17.1 at http://localhost:6006/ (Press CTRL+C to quit)\n"
     ]
    }
   ],
   "source": [
    "! tensorboard --logdir \"./checkpoints/91053_8345177088_250203-103232/tfb_train/\""
   ]
  },
  {
   "cell_type": "code",
   "execution_count": null,
   "metadata": {},
   "outputs": [],
   "source": []
  }
 ],
 "metadata": {
  "kernelspec": {
   "display_name": "Python 3 (ipykernel)",
   "language": "python",
   "name": "python3"
  },
  "language_info": {
   "codemirror_mode": {
    "name": "ipython",
    "version": 3
   },
   "file_extension": ".py",
   "mimetype": "text/x-python",
   "name": "python",
   "nbconvert_exporter": "python",
   "pygments_lexer": "ipython3",
   "version": "3.10.14"
  }
 },
 "nbformat": 4,
 "nbformat_minor": 4
}
